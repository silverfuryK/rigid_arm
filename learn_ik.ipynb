{
 "cells": [
  {
   "cell_type": "markdown",
   "metadata": {},
   "source": [
    "## Learning Inverse Kinematics"
   ]
  },
  {
   "cell_type": "code",
   "execution_count": 1,
   "metadata": {},
   "outputs": [
    {
     "name": "stderr",
     "output_type": "stream",
     "text": [
      "2024-03-28 10:06:00.124402: E external/local_xla/xla/stream_executor/cuda/cuda_dnn.cc:9261] Unable to register cuDNN factory: Attempting to register factory for plugin cuDNN when one has already been registered\n",
      "2024-03-28 10:06:00.124432: E external/local_xla/xla/stream_executor/cuda/cuda_fft.cc:607] Unable to register cuFFT factory: Attempting to register factory for plugin cuFFT when one has already been registered\n",
      "2024-03-28 10:06:00.125381: E external/local_xla/xla/stream_executor/cuda/cuda_blas.cc:1515] Unable to register cuBLAS factory: Attempting to register factory for plugin cuBLAS when one has already been registered\n",
      "2024-03-28 10:06:00.130554: I tensorflow/core/platform/cpu_feature_guard.cc:182] This TensorFlow binary is optimized to use available CPU instructions in performance-critical operations.\n",
      "To enable the following instructions: AVX2 FMA, in other operations, rebuild TensorFlow with the appropriate compiler flags.\n",
      "2024-03-28 10:06:00.701876: W tensorflow/compiler/tf2tensorrt/utils/py_utils.cc:38] TF-TRT Warning: Could not find TensorRT\n"
     ]
    }
   ],
   "source": [
    "import json\n",
    "import numpy as np\n",
    "import pandas as pd\n",
    "from sklearn.model_selection import train_test_split\n",
    "from tensorflow.keras.models import Sequential\n",
    "from tensorflow.keras.layers import Dense\n",
    "from tensorflow.keras.callbacks import LearningRateScheduler\n",
    "import matplotlib.pyplot as plt\n"
   ]
  },
  {
   "cell_type": "code",
   "execution_count": 2,
   "metadata": {},
   "outputs": [],
   "source": [
    "# Load the data\n",
    "with open('dataset/data1.json') as f:\n",
    "    data = json.load(f)\n",
    "\n",
    "df = pd.json_normalize(data['data'])\n",
    "# df.head()"
   ]
  },
  {
   "cell_type": "code",
   "execution_count": 3,
   "metadata": {},
   "outputs": [],
   "source": [
    "X = df.drop('actions', axis=1)\n",
    "y = pd.DataFrame(df['actions'].to_list())  # Assuming 'actions' is a list\n",
    "# X_flat = X.apply(lambda x: pd.Series([i for _list in x for i in _list]), axis=1)\n",
    "\n",
    "ee_position = pd.DataFrame(X['end-effector-position'].tolist(), columns=['ee_pos_x', 'ee_pos_y', 'ee_pos_z'])\n",
    "X = pd.concat([X.drop('end-effector-position', axis=1), ee_position], axis=1)\n",
    "\n",
    "# Flatten 'end-effector-orientation' column\n",
    "ee_orientation = pd.DataFrame(X['end-effector-orientation'].tolist(), columns=['ee_ori_w', 'ee_ori_x', 'ee_ori_y', 'ee_ori_z'])\n",
    "X = pd.concat([X.drop('end-effector-orientation', axis=1), ee_orientation], axis=1)\n",
    "\n",
    "# y_flat = y.apply(lambda x: pd.Series([i for _list in x for i in _list]), axis=1)\n",
    "\n",
    "# Split the data into training and testing sets\n",
    "X_train, X_test, y_train, y_test = train_test_split(X, y, test_size=0.2, random_state=42)\n"
   ]
  },
  {
   "cell_type": "code",
   "execution_count": 4,
   "metadata": {},
   "outputs": [],
   "source": [
    "# df = pd.json_normalize(data['data'])\n",
    "X = df.drop('actions', axis=1)\n",
    "y = pd.DataFrame(df['actions'].to_list())  # Assuming 'actions' is a list\n",
    "ee_position = pd.DataFrame(X['end-effector-position'].tolist(), columns=['ee_pos_x', 'ee_pos_y', 'ee_pos_z'])\n",
    "ee_position = ee_position[['ee_pos_z', 'ee_pos_y', 'ee_pos_x']]\n",
    "# swap z and x columns\n",
    "# ee_position = ee_position[['ee_pos_z', 'ee_pos_y', 'ee_pos_x']]\n",
    "X = pd.concat([X.drop('end-effector-position', axis=1), ee_position], axis=1)\n",
    "ee_orientation = pd.DataFrame(X['end-effector-orientation'].tolist(), columns=['ee_ori_w', 'ee_ori_x', 'ee_ori_y', 'ee_ori_z'])\n",
    "X = pd.concat([X.drop('end-effector-orientation', axis=1), ee_orientation], axis=1)\n",
    "X_train, X_test, y_train, y_test = train_test_split(X, y, test_size=0.2, random_state=42)"
   ]
  },
  {
   "cell_type": "code",
   "execution_count": 8,
   "metadata": {},
   "outputs": [
    {
     "data": {
      "text/plain": [
       "(0.7352330271622212, 2.264840688795799)"
      ]
     },
     "execution_count": 8,
     "metadata": {},
     "output_type": "execute_result"
    }
   ],
   "source": [
    "X_train[\"ee_pos_z\"].min(), X_train[\"ee_pos_z\"].max()"
   ]
  },
  {
   "cell_type": "code",
   "execution_count": 5,
   "metadata": {},
   "outputs": [
    {
     "data": {
      "text/html": [
       "<div>\n",
       "<style scoped>\n",
       "    .dataframe tbody tr th:only-of-type {\n",
       "        vertical-align: middle;\n",
       "    }\n",
       "\n",
       "    .dataframe tbody tr th {\n",
       "        vertical-align: top;\n",
       "    }\n",
       "\n",
       "    .dataframe thead th {\n",
       "        text-align: right;\n",
       "    }\n",
       "</style>\n",
       "<table border=\"1\" class=\"dataframe\">\n",
       "  <thead>\n",
       "    <tr style=\"text-align: right;\">\n",
       "      <th></th>\n",
       "      <th>shoulder-link-output</th>\n",
       "      <th>bicep-link-output</th>\n",
       "      <th>forearm-link-output</th>\n",
       "      <th>sphericalWrist1-link-output</th>\n",
       "      <th>sphericalWrist2-link-output</th>\n",
       "      <th>bracelet-link-output</th>\n",
       "      <th>ee_pos_z</th>\n",
       "      <th>ee_pos_y</th>\n",
       "      <th>ee_pos_x</th>\n",
       "      <th>ee_ori_w</th>\n",
       "      <th>ee_ori_x</th>\n",
       "      <th>ee_ori_y</th>\n",
       "      <th>ee_ori_z</th>\n",
       "    </tr>\n",
       "  </thead>\n",
       "  <tbody>\n",
       "    <tr>\n",
       "      <th>87001</th>\n",
       "      <td>2.765674</td>\n",
       "      <td>-0.565908</td>\n",
       "      <td>-0.099882</td>\n",
       "      <td>2.547717</td>\n",
       "      <td>0.403470</td>\n",
       "      <td>1.834209</td>\n",
       "      <td>2.164661</td>\n",
       "      <td>0.116567</td>\n",
       "      <td>0.354645</td>\n",
       "      <td>0.028615</td>\n",
       "      <td>-0.889563</td>\n",
       "      <td>0.438860</td>\n",
       "      <td>0.123533</td>\n",
       "    </tr>\n",
       "    <tr>\n",
       "      <th>173935</th>\n",
       "      <td>-0.509322</td>\n",
       "      <td>0.827521</td>\n",
       "      <td>1.354675</td>\n",
       "      <td>-1.896621</td>\n",
       "      <td>1.690225</td>\n",
       "      <td>2.988733</td>\n",
       "      <td>1.999233</td>\n",
       "      <td>0.007581</td>\n",
       "      <td>0.196817</td>\n",
       "      <td>-0.434517</td>\n",
       "      <td>0.726513</td>\n",
       "      <td>-0.025139</td>\n",
       "      <td>-0.531734</td>\n",
       "    </tr>\n",
       "    <tr>\n",
       "      <th>87050</th>\n",
       "      <td>-2.531133</td>\n",
       "      <td>1.629018</td>\n",
       "      <td>0.726187</td>\n",
       "      <td>2.472186</td>\n",
       "      <td>0.274473</td>\n",
       "      <td>-1.760225</td>\n",
       "      <td>1.656677</td>\n",
       "      <td>0.411173</td>\n",
       "      <td>-0.617123</td>\n",
       "      <td>0.524121</td>\n",
       "      <td>0.489399</td>\n",
       "      <td>0.689316</td>\n",
       "      <td>0.103100</td>\n",
       "    </tr>\n",
       "    <tr>\n",
       "      <th>147371</th>\n",
       "      <td>-0.432982</td>\n",
       "      <td>-1.721859</td>\n",
       "      <td>2.037558</td>\n",
       "      <td>-3.122164</td>\n",
       "      <td>-1.368832</td>\n",
       "      <td>-1.174280</td>\n",
       "      <td>1.165610</td>\n",
       "      <td>-0.054600</td>\n",
       "      <td>-0.124025</td>\n",
       "      <td>0.512086</td>\n",
       "      <td>0.605594</td>\n",
       "      <td>-0.578956</td>\n",
       "      <td>-0.189299</td>\n",
       "    </tr>\n",
       "    <tr>\n",
       "      <th>231707</th>\n",
       "      <td>1.275059</td>\n",
       "      <td>1.940230</td>\n",
       "      <td>2.516941</td>\n",
       "      <td>2.910414</td>\n",
       "      <td>-0.155763</td>\n",
       "      <td>0.396523</td>\n",
       "      <td>1.631867</td>\n",
       "      <td>-0.141587</td>\n",
       "      <td>0.040263</td>\n",
       "      <td>-0.311701</td>\n",
       "      <td>-0.612376</td>\n",
       "      <td>-0.705606</td>\n",
       "      <td>0.173087</td>\n",
       "    </tr>\n",
       "  </tbody>\n",
       "</table>\n",
       "</div>"
      ],
      "text/plain": [
       "        shoulder-link-output  bicep-link-output  forearm-link-output  \\\n",
       "87001               2.765674          -0.565908            -0.099882   \n",
       "173935             -0.509322           0.827521             1.354675   \n",
       "87050              -2.531133           1.629018             0.726187   \n",
       "147371             -0.432982          -1.721859             2.037558   \n",
       "231707              1.275059           1.940230             2.516941   \n",
       "\n",
       "        sphericalWrist1-link-output  sphericalWrist2-link-output  \\\n",
       "87001                      2.547717                     0.403470   \n",
       "173935                    -1.896621                     1.690225   \n",
       "87050                      2.472186                     0.274473   \n",
       "147371                    -3.122164                    -1.368832   \n",
       "231707                     2.910414                    -0.155763   \n",
       "\n",
       "        bracelet-link-output  ee_pos_z  ee_pos_y  ee_pos_x  ee_ori_w  \\\n",
       "87001               1.834209  2.164661  0.116567  0.354645  0.028615   \n",
       "173935              2.988733  1.999233  0.007581  0.196817 -0.434517   \n",
       "87050              -1.760225  1.656677  0.411173 -0.617123  0.524121   \n",
       "147371             -1.174280  1.165610 -0.054600 -0.124025  0.512086   \n",
       "231707              0.396523  1.631867 -0.141587  0.040263 -0.311701   \n",
       "\n",
       "        ee_ori_x  ee_ori_y  ee_ori_z  \n",
       "87001  -0.889563  0.438860  0.123533  \n",
       "173935  0.726513 -0.025139 -0.531734  \n",
       "87050   0.489399  0.689316  0.103100  \n",
       "147371  0.605594 -0.578956 -0.189299  \n",
       "231707 -0.612376 -0.705606  0.173087  "
      ]
     },
     "execution_count": 5,
     "metadata": {},
     "output_type": "execute_result"
    }
   ],
   "source": [
    "X_train.head()"
   ]
  },
  {
   "cell_type": "code",
   "execution_count": 42,
   "metadata": {},
   "outputs": [],
   "source": [
    "random_index = np.random.randint(0, len(X_train)-1)\n",
    "data_obs = np.array(X_train[random_index:random_index+1])\n",
    "data_action = np.array(y_train[random_index:random_index+1])\n",
    "\n",
    "if True:\n",
    "    data_obs[0][6] = data_obs[0][6] + np.random.uniform(-0.7, 0)\n",
    "    # pass\n",
    "\n",
    "data_obs = np.reshape(data_obs, (data_obs.shape[1],))\n",
    "data_ee_target = data_obs[6:]\n",
    "data_action = np.reshape(data_action, (data_action.shape[1],))"
   ]
  },
  {
   "cell_type": "code",
   "execution_count": 44,
   "metadata": {},
   "outputs": [
    {
     "ename": "TypeError",
     "evalue": "an integer is required",
     "output_type": "error",
     "traceback": [
      "\u001b[0;31m---------------------------------------------------------------------------\u001b[0m",
      "\u001b[0;31mTypeError\u001b[0m                                 Traceback (most recent call last)",
      "Cell \u001b[0;32mIn[44], line 1\u001b[0m\n\u001b[0;32m----> 1\u001b[0m \u001b[43mnp\u001b[49m\u001b[38;5;241;43m.\u001b[39;49m\u001b[43mrandom\u001b[49m\u001b[38;5;241;43m.\u001b[39;49m\u001b[43msample\u001b[49m\u001b[43m(\u001b[49m\u001b[43m[\u001b[49m\u001b[38;5;28;43;01mTrue\u001b[39;49;00m\u001b[43m,\u001b[49m\u001b[43m \u001b[49m\u001b[38;5;28;43;01mFalse\u001b[39;49;00m\u001b[43m]\u001b[49m\u001b[43m)\u001b[49m\n",
      "File \u001b[0;32mnumpy/random/mtrand.pyx:4871\u001b[0m, in \u001b[0;36mnumpy.random.mtrand.sample\u001b[0;34m()\u001b[0m\n",
      "File \u001b[0;32mnumpy/random/mtrand.pyx:436\u001b[0m, in \u001b[0;36mnumpy.random.mtrand.RandomState.random_sample\u001b[0;34m()\u001b[0m\n",
      "File \u001b[0;32m_common.pyx:307\u001b[0m, in \u001b[0;36mnumpy.random._common.double_fill\u001b[0;34m()\u001b[0m\n",
      "\u001b[0;31mTypeError\u001b[0m: an integer is required"
     ]
    }
   ],
   "source": [
    "np.random.sample([True, False])"
   ]
  },
  {
   "cell_type": "code",
   "execution_count": 54,
   "metadata": {},
   "outputs": [
    {
     "data": {
      "image/png": "[encoded data removed]",
      "text/plain": [
       "<Figure size 640x480 with 1 Axes>"
      ]
     },
     "metadata": {},
     "output_type": "display_data"
    }
   ],
   "source": [
    "fig = plt.figure()\n",
    "ax = fig.add_subplot(111, projection='3d')\n",
    "for i in range(200):\n",
    "    random_index = np.random.randint(0, len(X_train)-1)\n",
    "    data_obs = np.array(X_train[random_index:random_index+1])\n",
    "    data_action = np.array(y_train[random_index:random_index+1])\n",
    "\n",
    "    if True:\n",
    "        data_obs[0][6] = data_obs[0][6] + np.random.uniform(-0.7, 0)\n",
    "        # pass\n",
    "\n",
    "    data_obs = np.reshape(data_obs, (data_obs.shape[1],))\n",
    "    data_ee_target = data_obs[6:]\n",
    "    data_action = np.reshape(data_action, (data_action.shape[1],))\n",
    "    # plot 3d x, y, z\n",
    "\n",
    "    \n",
    "    \n",
    "    ax.scatter(data_ee_target[1], data_ee_target[2], data_ee_target[0], c='r', marker='o')\n",
    "    # ax.scatter(data_action[0], data_action[1], data_action[2], c='b', marker='o')\n",
    "    ax.set_xlabel('X Label')\n",
    "    ax.set_ylabel('Y Label')\n",
    "    ax.set_zlabel('Z Label')"
   ]
  },
  {
   "cell_type": "code",
   "execution_count": 43,
   "metadata": {},
   "outputs": [
    {
     "data": {
      "text/plain": [
       "array([ 0.47527102, -0.04462336, -0.69043265])"
      ]
     },
     "execution_count": 43,
     "metadata": {},
     "output_type": "execute_result"
    }
   ],
   "source": [
    "data_obs[6:9]"
   ]
  },
  {
   "cell_type": "code",
   "execution_count": 20,
   "metadata": {},
   "outputs": [
    {
     "data": {
      "text/plain": [
       "(0.7352330271622212, 2.264840688795799)"
      ]
     },
     "execution_count": 20,
     "metadata": {},
     "output_type": "execute_result"
    }
   ],
   "source": [
    "X_train[\"ee_pos_z\"].min(), X_train[\"ee_pos_z\"].max()\n"
   ]
  },
  {
   "cell_type": "code",
   "execution_count": 11,
   "metadata": {},
   "outputs": [
    {
     "name": "stderr",
     "output_type": "stream",
     "text": [
      "2024-02-24 16:35:54.106999: I external/local_xla/xla/stream_executor/cuda/cuda_executor.cc:901] successful NUMA node read from SysFS had negative value (-1), but there must be at least one NUMA node, so returning NUMA node zero. See more at https://github.com/torvalds/linux/blob/v6.0/Documentation/ABI/testing/sysfs-bus-pci#L344-L355\n",
      "2024-02-24 16:35:54.285763: I external/local_xla/xla/stream_executor/cuda/cuda_executor.cc:901] successful NUMA node read from SysFS had negative value (-1), but there must be at least one NUMA node, so returning NUMA node zero. See more at https://github.com/torvalds/linux/blob/v6.0/Documentation/ABI/testing/sysfs-bus-pci#L344-L355\n",
      "2024-02-24 16:35:54.286029: I external/local_xla/xla/stream_executor/cuda/cuda_executor.cc:901] successful NUMA node read from SysFS had negative value (-1), but there must be at least one NUMA node, so returning NUMA node zero. See more at https://github.com/torvalds/linux/blob/v6.0/Documentation/ABI/testing/sysfs-bus-pci#L344-L355\n",
      "2024-02-24 16:35:54.287149: I external/local_xla/xla/stream_executor/cuda/cuda_executor.cc:901] successful NUMA node read from SysFS had negative value (-1), but there must be at least one NUMA node, so returning NUMA node zero. See more at https://github.com/torvalds/linux/blob/v6.0/Documentation/ABI/testing/sysfs-bus-pci#L344-L355\n",
      "2024-02-24 16:35:54.287309: I external/local_xla/xla/stream_executor/cuda/cuda_executor.cc:901] successful NUMA node read from SysFS had negative value (-1), but there must be at least one NUMA node, so returning NUMA node zero. See more at https://github.com/torvalds/linux/blob/v6.0/Documentation/ABI/testing/sysfs-bus-pci#L344-L355\n",
      "2024-02-24 16:35:54.287455: I external/local_xla/xla/stream_executor/cuda/cuda_executor.cc:901] successful NUMA node read from SysFS had negative value (-1), but there must be at least one NUMA node, so returning NUMA node zero. See more at https://github.com/torvalds/linux/blob/v6.0/Documentation/ABI/testing/sysfs-bus-pci#L344-L355\n",
      "2024-02-24 16:35:54.375865: I external/local_xla/xla/stream_executor/cuda/cuda_executor.cc:901] successful NUMA node read from SysFS had negative value (-1), but there must be at least one NUMA node, so returning NUMA node zero. See more at https://github.com/torvalds/linux/blob/v6.0/Documentation/ABI/testing/sysfs-bus-pci#L344-L355\n",
      "2024-02-24 16:35:54.376085: I external/local_xla/xla/stream_executor/cuda/cuda_executor.cc:901] successful NUMA node read from SysFS had negative value (-1), but there must be at least one NUMA node, so returning NUMA node zero. See more at https://github.com/torvalds/linux/blob/v6.0/Documentation/ABI/testing/sysfs-bus-pci#L344-L355\n",
      "2024-02-24 16:35:54.376243: I external/local_xla/xla/stream_executor/cuda/cuda_executor.cc:901] successful NUMA node read from SysFS had negative value (-1), but there must be at least one NUMA node, so returning NUMA node zero. See more at https://github.com/torvalds/linux/blob/v6.0/Documentation/ABI/testing/sysfs-bus-pci#L344-L355\n",
      "2024-02-24 16:35:54.376359: I tensorflow/core/common_runtime/gpu/gpu_device.cc:1929] Created device /job:localhost/replica:0/task:0/device:GPU:0 with 5342 MB memory:  -> device: 0, name: NVIDIA GeForce RTX 3070, pci bus id: 0000:06:00.0, compute capability: 8.6\n"
     ]
    }
   ],
   "source": [
    "# Define the neural network\n",
    "model = Sequential()\n",
    "model.add(Dense(256, input_dim=X_train.shape[1], activation='relu'))\n",
    "model.add(Dense(256, activation='relu'))\n",
    "model.add(Dense(256, activation='relu'))\n",
    "model.add(Dense(len(y.columns), activation='linear'))  # Assuming 'actions' is a list\n",
    "\n",
    "# Define the learning rate schedule\n",
    "def scheduler(epoch, lr):\n",
    "    if epoch < 75:\n",
    "        return lr\n",
    "    else:\n",
    "        return lr * 0.6\n",
    "\n",
    "# Create a LearningRateScheduler callback\n",
    "callback = LearningRateScheduler(scheduler)\n",
    "\n",
    "\n",
    "# Compile the model\n",
    "model.compile(loss='mean_squared_error', optimizer='adam', metrics=['accuracy'])\n"
   ]
  },
  {
   "cell_type": "code",
   "execution_count": 12,
   "metadata": {},
   "outputs": [
    {
     "name": "stdout",
     "output_type": "stream",
     "text": [
      "Epoch 1/200\n"
     ]
    },
    {
     "name": "stderr",
     "output_type": "stream",
     "text": [
      "2024-02-24 16:36:01.734593: I external/local_tsl/tsl/platform/default/subprocess.cc:304] Start cannot spawn child process: No such file or directory\n",
      "2024-02-24 16:36:02.048580: I external/local_xla/xla/service/service.cc:168] XLA service 0x7f7bad608b00 initialized for platform CUDA (this does not guarantee that XLA will be used). Devices:\n",
      "2024-02-24 16:36:02.048599: I external/local_xla/xla/service/service.cc:176]   StreamExecutor device (0): NVIDIA GeForce RTX 3070, Compute Capability 8.6\n",
      "2024-02-24 16:36:02.061303: I tensorflow/compiler/mlir/tensorflow/utils/dump_mlir_util.cc:269] disabling MLIR crash reproducer, set env var `MLIR_CRASH_REPRODUCER_DIRECTORY` to enable.\n",
      "2024-02-24 16:36:02.091657: I external/local_xla/xla/stream_executor/cuda/cuda_dnn.cc:454] Loaded cuDNN version 8902\n",
      "WARNING: All log messages before absl::InitializeLog() is called are written to STDERR\n",
      "I0000 00:00:1708810562.147225  275384 device_compiler.h:186] Compiled cluster using XLA!  This line is logged at most once for the lifetime of the process.\n"
     ]
    },
    {
     "name": "stdout",
     "output_type": "stream",
     "text": [
      "507/507 [==============================] - 2s 2ms/step - loss: 0.0381 - accuracy: 0.9614 - lr: 0.0010\n",
      "Epoch 2/200\n",
      "507/507 [==============================] - 1s 2ms/step - loss: 0.0018 - accuracy: 0.9802 - lr: 0.0010\n",
      "Epoch 3/200\n",
      "507/507 [==============================] - 1s 1ms/step - loss: 0.0016 - accuracy: 0.9823 - lr: 0.0010\n",
      "Epoch 4/200\n",
      "507/507 [==============================] - 1s 2ms/step - loss: 0.0015 - accuracy: 0.9829 - lr: 0.0010\n",
      "Epoch 5/200\n",
      "507/507 [==============================] - 1s 2ms/step - loss: 0.0014 - accuracy: 0.9833 - lr: 0.0010\n",
      "Epoch 6/200\n",
      "507/507 [==============================] - 1s 1ms/step - loss: 0.0013 - accuracy: 0.9844 - lr: 0.0010\n",
      "Epoch 7/200\n",
      "507/507 [==============================] - 1s 2ms/step - loss: 0.0013 - accuracy: 0.9849 - lr: 0.0010\n",
      "Epoch 8/200\n",
      "507/507 [==============================] - 1s 1ms/step - loss: 0.0012 - accuracy: 0.9850 - lr: 0.0010\n",
      "Epoch 9/200\n",
      "507/507 [==============================] - 1s 2ms/step - loss: 0.0011 - accuracy: 0.9861 - lr: 0.0010\n",
      "Epoch 10/200\n",
      "507/507 [==============================] - 1s 2ms/step - loss: 0.0011 - accuracy: 0.9858 - lr: 0.0010\n",
      "Epoch 11/200\n",
      "507/507 [==============================] - 1s 2ms/step - loss: 0.0011 - accuracy: 0.9861 - lr: 0.0010\n",
      "Epoch 12/200\n",
      "507/507 [==============================] - 1s 2ms/step - loss: 0.0011 - accuracy: 0.9861 - lr: 0.0010\n",
      "Epoch 13/200\n",
      "507/507 [==============================] - 1s 2ms/step - loss: 0.0010 - accuracy: 0.9863 - lr: 0.0010\n",
      "Epoch 14/200\n",
      "507/507 [==============================] - 1s 2ms/step - loss: 0.0011 - accuracy: 0.9860 - lr: 0.0010\n",
      "Epoch 15/200\n",
      "507/507 [==============================] - 1s 1ms/step - loss: 0.0010 - accuracy: 0.9866 - lr: 0.0010\n",
      "Epoch 16/200\n",
      "507/507 [==============================] - 1s 1ms/step - loss: 9.8151e-04 - accuracy: 0.9869 - lr: 0.0010\n",
      "Epoch 17/200\n",
      "507/507 [==============================] - 1s 1ms/step - loss: 9.6937e-04 - accuracy: 0.9868 - lr: 0.0010\n",
      "Epoch 18/200\n",
      "507/507 [==============================] - 1s 2ms/step - loss: 9.7721e-04 - accuracy: 0.9870 - lr: 0.0010\n",
      "Epoch 19/200\n",
      "507/507 [==============================] - 1s 2ms/step - loss: 9.4219e-04 - accuracy: 0.9875 - lr: 0.0010\n",
      "Epoch 20/200\n",
      "507/507 [==============================] - 1s 2ms/step - loss: 9.1804e-04 - accuracy: 0.9877 - lr: 0.0010\n",
      "Epoch 21/200\n",
      "507/507 [==============================] - 1s 2ms/step - loss: 9.1535e-04 - accuracy: 0.9875 - lr: 0.0010\n",
      "Epoch 22/200\n",
      "507/507 [==============================] - 1s 2ms/step - loss: 9.0887e-04 - accuracy: 0.9877 - lr: 0.0010\n",
      "Epoch 23/200\n",
      "507/507 [==============================] - 1s 2ms/step - loss: 9.0433e-04 - accuracy: 0.9876 - lr: 0.0010\n",
      "Epoch 24/200\n",
      "507/507 [==============================] - 1s 1ms/step - loss: 8.8365e-04 - accuracy: 0.9881 - lr: 0.0010\n",
      "Epoch 25/200\n",
      "507/507 [==============================] - 1s 2ms/step - loss: 8.9136e-04 - accuracy: 0.9879 - lr: 0.0010\n",
      "Epoch 26/200\n",
      "507/507 [==============================] - 1s 2ms/step - loss: 8.4642e-04 - accuracy: 0.9886 - lr: 0.0010\n",
      "Epoch 27/200\n",
      "507/507 [==============================] - 1s 1ms/step - loss: 8.7379e-04 - accuracy: 0.9880 - lr: 0.0010\n",
      "Epoch 28/200\n",
      "507/507 [==============================] - 1s 2ms/step - loss: 8.5602e-04 - accuracy: 0.9882 - lr: 0.0010\n",
      "Epoch 29/200\n",
      "507/507 [==============================] - 1s 2ms/step - loss: 8.4409e-04 - accuracy: 0.9884 - lr: 0.0010\n",
      "Epoch 30/200\n",
      "507/507 [==============================] - 1s 2ms/step - loss: 8.3199e-04 - accuracy: 0.9886 - lr: 0.0010\n",
      "Epoch 31/200\n",
      "507/507 [==============================] - 1s 2ms/step - loss: 8.4658e-04 - accuracy: 0.9884 - lr: 0.0010\n",
      "Epoch 32/200\n",
      "507/507 [==============================] - 1s 1ms/step - loss: 8.3411e-04 - accuracy: 0.9885 - lr: 0.0010\n",
      "Epoch 33/200\n",
      "507/507 [==============================] - 1s 1ms/step - loss: 8.3276e-04 - accuracy: 0.9885 - lr: 0.0010\n",
      "Epoch 34/200\n",
      "507/507 [==============================] - 1s 1ms/step - loss: 8.0976e-04 - accuracy: 0.9889 - lr: 0.0010\n",
      "Epoch 35/200\n",
      "507/507 [==============================] - 1s 2ms/step - loss: 8.1371e-04 - accuracy: 0.9886 - lr: 0.0010\n",
      "Epoch 36/200\n",
      "507/507 [==============================] - 1s 2ms/step - loss: 7.9847e-04 - accuracy: 0.9888 - lr: 0.0010\n",
      "Epoch 37/200\n",
      "507/507 [==============================] - 1s 2ms/step - loss: 8.1046e-04 - accuracy: 0.9885 - lr: 0.0010\n",
      "Epoch 38/200\n",
      "507/507 [==============================] - 1s 2ms/step - loss: 7.8702e-04 - accuracy: 0.9889 - lr: 0.0010\n",
      "Epoch 39/200\n",
      "507/507 [==============================] - 1s 2ms/step - loss: 7.9103e-04 - accuracy: 0.9891 - lr: 0.0010\n",
      "Epoch 40/200\n",
      "507/507 [==============================] - 1s 2ms/step - loss: 7.8677e-04 - accuracy: 0.9889 - lr: 0.0010\n",
      "Epoch 41/200\n",
      "507/507 [==============================] - 1s 2ms/step - loss: 7.8131e-04 - accuracy: 0.9894 - lr: 0.0010\n",
      "Epoch 42/200\n",
      "507/507 [==============================] - 1s 2ms/step - loss: 7.7665e-04 - accuracy: 0.9891 - lr: 0.0010\n",
      "Epoch 43/200\n",
      "507/507 [==============================] - 1s 2ms/step - loss: 7.7589e-04 - accuracy: 0.9893 - lr: 0.0010\n",
      "Epoch 44/200\n",
      "507/507 [==============================] - 1s 2ms/step - loss: 7.7227e-04 - accuracy: 0.9892 - lr: 0.0010\n",
      "Epoch 45/200\n",
      "507/507 [==============================] - 1s 2ms/step - loss: 7.6463e-04 - accuracy: 0.9892 - lr: 0.0010\n",
      "Epoch 46/200\n",
      "507/507 [==============================] - 1s 2ms/step - loss: 7.5088e-04 - accuracy: 0.9893 - lr: 0.0010\n",
      "Epoch 47/200\n",
      "507/507 [==============================] - 1s 2ms/step - loss: 7.6340e-04 - accuracy: 0.9894 - lr: 0.0010\n",
      "Epoch 48/200\n",
      "507/507 [==============================] - 1s 2ms/step - loss: 7.6195e-04 - accuracy: 0.9894 - lr: 0.0010\n",
      "Epoch 49/200\n",
      "507/507 [==============================] - 1s 1ms/step - loss: 7.3710e-04 - accuracy: 0.9897 - lr: 0.0010\n",
      "Epoch 50/200\n",
      "507/507 [==============================] - 1s 1ms/step - loss: 7.4482e-04 - accuracy: 0.9896 - lr: 0.0010\n",
      "Epoch 51/200\n",
      "507/507 [==============================] - 1s 2ms/step - loss: 7.3945e-04 - accuracy: 0.9894 - lr: 0.0010\n",
      "Epoch 52/200\n",
      "507/507 [==============================] - 1s 1ms/step - loss: 7.4024e-04 - accuracy: 0.9895 - lr: 0.0010\n",
      "Epoch 53/200\n",
      "507/507 [==============================] - 1s 1ms/step - loss: 7.2926e-04 - accuracy: 0.9902 - lr: 0.0010\n",
      "Epoch 54/200\n",
      "507/507 [==============================] - 1s 2ms/step - loss: 7.2736e-04 - accuracy: 0.9899 - lr: 0.0010\n",
      "Epoch 55/200\n",
      "507/507 [==============================] - 1s 2ms/step - loss: 7.2760e-04 - accuracy: 0.9896 - lr: 0.0010\n",
      "Epoch 56/200\n",
      "507/507 [==============================] - 1s 2ms/step - loss: 7.2394e-04 - accuracy: 0.9901 - lr: 0.0010\n",
      "Epoch 57/200\n",
      "507/507 [==============================] - 1s 1ms/step - loss: 7.1724e-04 - accuracy: 0.9898 - lr: 0.0010\n",
      "Epoch 58/200\n",
      "507/507 [==============================] - 1s 2ms/step - loss: 7.1372e-04 - accuracy: 0.9897 - lr: 0.0010\n",
      "Epoch 59/200\n",
      "507/507 [==============================] - 1s 2ms/step - loss: 7.1345e-04 - accuracy: 0.9899 - lr: 0.0010\n",
      "Epoch 60/200\n",
      "507/507 [==============================] - 1s 2ms/step - loss: 7.1073e-04 - accuracy: 0.9898 - lr: 0.0010\n",
      "Epoch 61/200\n",
      "507/507 [==============================] - 1s 2ms/step - loss: 7.0632e-04 - accuracy: 0.9900 - lr: 0.0010\n",
      "Epoch 62/200\n",
      "507/507 [==============================] - 1s 2ms/step - loss: 7.0998e-04 - accuracy: 0.9899 - lr: 0.0010\n",
      "Epoch 63/200\n",
      "507/507 [==============================] - 1s 1ms/step - loss: 6.8146e-04 - accuracy: 0.9904 - lr: 0.0010\n",
      "Epoch 64/200\n",
      "507/507 [==============================] - 1s 2ms/step - loss: 7.0148e-04 - accuracy: 0.9901 - lr: 0.0010\n",
      "Epoch 65/200\n",
      "507/507 [==============================] - 1s 2ms/step - loss: 6.9879e-04 - accuracy: 0.9902 - lr: 0.0010\n",
      "Epoch 66/200\n",
      "507/507 [==============================] - 1s 2ms/step - loss: 6.9161e-04 - accuracy: 0.9902 - lr: 0.0010\n",
      "Epoch 67/200\n",
      "507/507 [==============================] - 1s 2ms/step - loss: 6.8695e-04 - accuracy: 0.9899 - lr: 0.0010\n",
      "Epoch 68/200\n",
      "507/507 [==============================] - 1s 2ms/step - loss: 6.8332e-04 - accuracy: 0.9903 - lr: 0.0010\n",
      "Epoch 69/200\n",
      "507/507 [==============================] - 1s 2ms/step - loss: 6.8434e-04 - accuracy: 0.9900 - lr: 0.0010\n",
      "Epoch 70/200\n",
      "507/507 [==============================] - 1s 1ms/step - loss: 6.6747e-04 - accuracy: 0.9906 - lr: 0.0010\n",
      "Epoch 71/200\n",
      "507/507 [==============================] - 1s 1ms/step - loss: 6.7275e-04 - accuracy: 0.9907 - lr: 0.0010\n",
      "Epoch 72/200\n",
      "507/507 [==============================] - 1s 1ms/step - loss: 6.8249e-04 - accuracy: 0.9899 - lr: 0.0010\n",
      "Epoch 73/200\n",
      "507/507 [==============================] - 1s 2ms/step - loss: 6.6638e-04 - accuracy: 0.9905 - lr: 0.0010\n",
      "Epoch 74/200\n",
      "507/507 [==============================] - 1s 1ms/step - loss: 6.6943e-04 - accuracy: 0.9904 - lr: 0.0010\n",
      "Epoch 75/200\n",
      "507/507 [==============================] - 1s 1ms/step - loss: 6.7266e-04 - accuracy: 0.9903 - lr: 0.0010\n",
      "Epoch 76/200\n",
      "507/507 [==============================] - 1s 2ms/step - loss: 5.2336e-04 - accuracy: 0.9932 - lr: 6.0000e-04\n",
      "Epoch 77/200\n",
      "507/507 [==============================] - 1s 2ms/step - loss: 4.8814e-04 - accuracy: 0.9938 - lr: 3.6000e-04\n",
      "Epoch 78/200\n",
      "507/507 [==============================] - 1s 2ms/step - loss: 4.6177e-04 - accuracy: 0.9942 - lr: 2.1600e-04\n",
      "Epoch 79/200\n",
      "507/507 [==============================] - 1s 2ms/step - loss: 4.4742e-04 - accuracy: 0.9946 - lr: 1.2960e-04\n",
      "Epoch 80/200\n",
      "507/507 [==============================] - 1s 2ms/step - loss: 4.3767e-04 - accuracy: 0.9947 - lr: 7.7760e-05\n",
      "Epoch 81/200\n",
      "507/507 [==============================] - 1s 2ms/step - loss: 4.3125e-04 - accuracy: 0.9950 - lr: 4.6656e-05\n",
      "Epoch 82/200\n",
      "507/507 [==============================] - 1s 1ms/step - loss: 4.2650e-04 - accuracy: 0.9949 - lr: 2.7994e-05\n",
      "Epoch 83/200\n",
      "507/507 [==============================] - 1s 2ms/step - loss: 4.2363e-04 - accuracy: 0.9950 - lr: 1.6796e-05\n",
      "Epoch 84/200\n",
      "507/507 [==============================] - 1s 1ms/step - loss: 4.2193e-04 - accuracy: 0.9950 - lr: 1.0078e-05\n",
      "Epoch 85/200\n",
      "507/507 [==============================] - 1s 1ms/step - loss: 4.2068e-04 - accuracy: 0.9951 - lr: 6.0466e-06\n",
      "Epoch 86/200\n",
      "507/507 [==============================] - 1s 1ms/step - loss: 4.1992e-04 - accuracy: 0.9952 - lr: 3.6280e-06\n",
      "Epoch 87/200\n",
      "507/507 [==============================] - 1s 1ms/step - loss: 4.1932e-04 - accuracy: 0.9952 - lr: 2.1768e-06\n",
      "Epoch 88/200\n",
      "507/507 [==============================] - 1s 2ms/step - loss: 4.1898e-04 - accuracy: 0.9952 - lr: 1.3061e-06\n",
      "Epoch 89/200\n",
      "507/507 [==============================] - 1s 2ms/step - loss: 4.1875e-04 - accuracy: 0.9952 - lr: 7.8364e-07\n",
      "Epoch 90/200\n",
      "507/507 [==============================] - 1s 1ms/step - loss: 4.1859e-04 - accuracy: 0.9952 - lr: 4.7019e-07\n",
      "Epoch 91/200\n",
      "507/507 [==============================] - 1s 1ms/step - loss: 4.1853e-04 - accuracy: 0.9952 - lr: 2.8211e-07\n",
      "Epoch 92/200\n",
      "507/507 [==============================] - 1s 1ms/step - loss: 4.1846e-04 - accuracy: 0.9952 - lr: 1.6927e-07\n",
      "Epoch 93/200\n",
      "507/507 [==============================] - 1s 2ms/step - loss: 4.1842e-04 - accuracy: 0.9952 - lr: 1.0156e-07\n",
      "Epoch 94/200\n",
      "507/507 [==============================] - 1s 2ms/step - loss: 4.1840e-04 - accuracy: 0.9952 - lr: 6.0936e-08\n",
      "Epoch 95/200\n",
      "507/507 [==============================] - 1s 2ms/step - loss: 4.1839e-04 - accuracy: 0.9953 - lr: 3.6562e-08\n",
      "Epoch 96/200\n",
      "507/507 [==============================] - 1s 2ms/step - loss: 4.1838e-04 - accuracy: 0.9952 - lr: 2.1937e-08\n",
      "Epoch 97/200\n",
      "507/507 [==============================] - 1s 2ms/step - loss: 4.1837e-04 - accuracy: 0.9952 - lr: 1.3162e-08\n",
      "Epoch 98/200\n",
      "507/507 [==============================] - 1s 2ms/step - loss: 4.1837e-04 - accuracy: 0.9952 - lr: 7.8973e-09\n",
      "Epoch 99/200\n",
      "507/507 [==============================] - 1s 2ms/step - loss: 4.1837e-04 - accuracy: 0.9952 - lr: 4.7384e-09\n",
      "Epoch 100/200\n",
      "507/507 [==============================] - 1s 2ms/step - loss: 4.1837e-04 - accuracy: 0.9952 - lr: 2.8430e-09\n",
      "Epoch 101/200\n",
      "507/507 [==============================] - 1s 2ms/step - loss: 4.1837e-04 - accuracy: 0.9952 - lr: 1.7058e-09\n",
      "Epoch 102/200\n",
      "507/507 [==============================] - 1s 1ms/step - loss: 4.1837e-04 - accuracy: 0.9952 - lr: 1.0235e-09\n",
      "Epoch 103/200\n",
      "507/507 [==============================] - 1s 2ms/step - loss: 4.1837e-04 - accuracy: 0.9952 - lr: 6.1409e-10\n",
      "Epoch 104/200\n",
      "507/507 [==============================] - 1s 2ms/step - loss: 4.1837e-04 - accuracy: 0.9952 - lr: 3.6846e-10\n",
      "Epoch 105/200\n",
      "507/507 [==============================] - 1s 2ms/step - loss: 4.1837e-04 - accuracy: 0.9952 - lr: 2.2107e-10\n",
      "Epoch 106/200\n",
      "507/507 [==============================] - 1s 2ms/step - loss: 4.1837e-04 - accuracy: 0.9952 - lr: 1.3264e-10\n",
      "Epoch 107/200\n",
      "507/507 [==============================] - 1s 2ms/step - loss: 4.1837e-04 - accuracy: 0.9952 - lr: 7.9587e-11\n",
      "Epoch 108/200\n",
      "507/507 [==============================] - 1s 2ms/step - loss: 4.1837e-04 - accuracy: 0.9952 - lr: 4.7752e-11\n",
      "Epoch 109/200\n",
      "507/507 [==============================] - 1s 1ms/step - loss: 4.1837e-04 - accuracy: 0.9952 - lr: 2.8651e-11\n",
      "Epoch 110/200\n",
      "507/507 [==============================] - 1s 2ms/step - loss: 4.1837e-04 - accuracy: 0.9952 - lr: 1.7191e-11\n",
      "Epoch 111/200\n",
      "507/507 [==============================] - 1s 2ms/step - loss: 4.1837e-04 - accuracy: 0.9952 - lr: 1.0314e-11\n",
      "Epoch 112/200\n",
      "507/507 [==============================] - 1s 2ms/step - loss: 4.1837e-04 - accuracy: 0.9952 - lr: 6.1887e-12\n",
      "Epoch 113/200\n",
      "507/507 [==============================] - 1s 1ms/step - loss: 4.1837e-04 - accuracy: 0.9952 - lr: 3.7132e-12\n",
      "Epoch 114/200\n",
      "507/507 [==============================] - 1s 1ms/step - loss: 4.1837e-04 - accuracy: 0.9952 - lr: 2.2279e-12\n",
      "Epoch 115/200\n",
      "507/507 [==============================] - 1s 2ms/step - loss: 4.1837e-04 - accuracy: 0.9952 - lr: 1.3367e-12\n",
      "Epoch 116/200\n",
      "507/507 [==============================] - 1s 1ms/step - loss: 4.1837e-04 - accuracy: 0.9952 - lr: 8.0205e-13\n",
      "Epoch 117/200\n",
      "507/507 [==============================] - 1s 1ms/step - loss: 4.1837e-04 - accuracy: 0.9952 - lr: 4.8123e-13\n",
      "Epoch 118/200\n",
      "507/507 [==============================] - 1s 2ms/step - loss: 4.1837e-04 - accuracy: 0.9952 - lr: 2.8874e-13\n",
      "Epoch 119/200\n",
      "507/507 [==============================] - 1s 2ms/step - loss: 4.1837e-04 - accuracy: 0.9952 - lr: 1.7324e-13\n",
      "Epoch 120/200\n",
      "507/507 [==============================] - 1s 2ms/step - loss: 4.1837e-04 - accuracy: 0.9952 - lr: 1.0395e-13\n",
      "Epoch 121/200\n",
      "507/507 [==============================] - 1s 2ms/step - loss: 4.1837e-04 - accuracy: 0.9952 - lr: 6.2367e-14\n",
      "Epoch 122/200\n",
      "507/507 [==============================] - 1s 2ms/step - loss: 4.1837e-04 - accuracy: 0.9952 - lr: 3.7420e-14\n",
      "Epoch 123/200\n",
      "507/507 [==============================] - 1s 2ms/step - loss: 4.1837e-04 - accuracy: 0.9952 - lr: 2.2452e-14\n",
      "Epoch 124/200\n",
      "507/507 [==============================] - 1s 1ms/step - loss: 4.1837e-04 - accuracy: 0.9952 - lr: 1.3471e-14\n",
      "Epoch 125/200\n",
      "507/507 [==============================] - 1s 1ms/step - loss: 4.1837e-04 - accuracy: 0.9952 - lr: 8.0828e-15\n",
      "Epoch 126/200\n",
      "507/507 [==============================] - 1s 2ms/step - loss: 4.1837e-04 - accuracy: 0.9952 - lr: 4.8497e-15\n",
      "Epoch 127/200\n",
      "507/507 [==============================] - 1s 2ms/step - loss: 4.1837e-04 - accuracy: 0.9952 - lr: 2.9098e-15\n",
      "Epoch 128/200\n",
      "507/507 [==============================] - 1s 1ms/step - loss: 4.1837e-04 - accuracy: 0.9952 - lr: 1.7459e-15\n",
      "Epoch 129/200\n",
      "507/507 [==============================] - 1s 2ms/step - loss: 4.1837e-04 - accuracy: 0.9952 - lr: 1.0475e-15\n",
      "Epoch 130/200\n",
      "507/507 [==============================] - 1s 2ms/step - loss: 4.1837e-04 - accuracy: 0.9952 - lr: 6.2852e-16\n",
      "Epoch 131/200\n",
      "507/507 [==============================] - 1s 2ms/step - loss: 4.1837e-04 - accuracy: 0.9952 - lr: 3.7711e-16\n",
      "Epoch 132/200\n",
      "507/507 [==============================] - 1s 2ms/step - loss: 4.1837e-04 - accuracy: 0.9952 - lr: 2.2627e-16\n",
      "Epoch 133/200\n",
      "507/507 [==============================] - 1s 2ms/step - loss: 4.1837e-04 - accuracy: 0.9952 - lr: 1.3576e-16\n",
      "Epoch 134/200\n",
      "507/507 [==============================] - 1s 2ms/step - loss: 4.1837e-04 - accuracy: 0.9952 - lr: 8.1456e-17\n",
      "Epoch 135/200\n",
      "507/507 [==============================] - 1s 1ms/step - loss: 4.1837e-04 - accuracy: 0.9952 - lr: 4.8874e-17\n",
      "Epoch 136/200\n",
      "507/507 [==============================] - 1s 2ms/step - loss: 4.1837e-04 - accuracy: 0.9952 - lr: 2.9324e-17\n",
      "Epoch 137/200\n",
      "507/507 [==============================] - 1s 1ms/step - loss: 4.1837e-04 - accuracy: 0.9952 - lr: 1.7595e-17\n",
      "Epoch 138/200\n",
      "507/507 [==============================] - 1s 2ms/step - loss: 4.1837e-04 - accuracy: 0.9952 - lr: 1.0557e-17\n",
      "Epoch 139/200\n",
      "507/507 [==============================] - 1s 2ms/step - loss: 4.1837e-04 - accuracy: 0.9952 - lr: 6.3340e-18\n",
      "Epoch 140/200\n",
      "507/507 [==============================] - 1s 1ms/step - loss: 4.1837e-04 - accuracy: 0.9952 - lr: 3.8004e-18\n",
      "Epoch 141/200\n",
      "507/507 [==============================] - 1s 2ms/step - loss: 4.1837e-04 - accuracy: 0.9952 - lr: 2.2803e-18\n",
      "Epoch 142/200\n",
      "507/507 [==============================] - 1s 1ms/step - loss: 4.1837e-04 - accuracy: 0.9952 - lr: 1.3682e-18\n",
      "Epoch 143/200\n",
      "507/507 [==============================] - 1s 2ms/step - loss: 4.1837e-04 - accuracy: 0.9952 - lr: 8.2089e-19\n",
      "Epoch 144/200\n",
      "507/507 [==============================] - 1s 2ms/step - loss: 4.1837e-04 - accuracy: 0.9952 - lr: 4.9253e-19\n",
      "Epoch 145/200\n",
      "507/507 [==============================] - 1s 2ms/step - loss: 4.1837e-04 - accuracy: 0.9952 - lr: 2.9552e-19\n",
      "Epoch 146/200\n",
      "507/507 [==============================] - 1s 2ms/step - loss: 4.1837e-04 - accuracy: 0.9952 - lr: 1.7731e-19\n",
      "Epoch 147/200\n",
      "507/507 [==============================] - 1s 1ms/step - loss: 4.1837e-04 - accuracy: 0.9952 - lr: 1.0639e-19\n",
      "Epoch 148/200\n",
      "507/507 [==============================] - 1s 2ms/step - loss: 4.1837e-04 - accuracy: 0.9952 - lr: 6.3832e-20\n",
      "Epoch 149/200\n",
      "507/507 [==============================] - 1s 1ms/step - loss: 4.1837e-04 - accuracy: 0.9952 - lr: 3.8299e-20\n",
      "Epoch 150/200\n",
      "507/507 [==============================] - 1s 2ms/step - loss: 4.1837e-04 - accuracy: 0.9952 - lr: 2.2980e-20\n",
      "Epoch 151/200\n",
      "507/507 [==============================] - 1s 2ms/step - loss: 4.1837e-04 - accuracy: 0.9952 - lr: 1.3788e-20\n",
      "Epoch 152/200\n",
      "507/507 [==============================] - 1s 2ms/step - loss: 4.1837e-04 - accuracy: 0.9952 - lr: 8.2727e-21\n",
      "Epoch 153/200\n",
      "507/507 [==============================] - 1s 2ms/step - loss: 4.1837e-04 - accuracy: 0.9952 - lr: 4.9636e-21\n",
      "Epoch 154/200\n",
      "507/507 [==============================] - 1s 2ms/step - loss: 4.1837e-04 - accuracy: 0.9952 - lr: 2.9782e-21\n",
      "Epoch 155/200\n",
      "507/507 [==============================] - 1s 2ms/step - loss: 4.1837e-04 - accuracy: 0.9952 - lr: 1.7869e-21\n",
      "Epoch 156/200\n",
      "507/507 [==============================] - 1s 2ms/step - loss: 4.1837e-04 - accuracy: 0.9952 - lr: 1.0721e-21\n",
      "Epoch 157/200\n",
      "507/507 [==============================] - 1s 2ms/step - loss: 4.1837e-04 - accuracy: 0.9952 - lr: 6.4328e-22\n",
      "Epoch 158/200\n",
      "507/507 [==============================] - 1s 2ms/step - loss: 4.1837e-04 - accuracy: 0.9952 - lr: 3.8597e-22\n",
      "Epoch 159/200\n",
      "507/507 [==============================] - 1s 2ms/step - loss: 4.1837e-04 - accuracy: 0.9952 - lr: 2.3158e-22\n",
      "Epoch 160/200\n",
      "507/507 [==============================] - 1s 2ms/step - loss: 4.1837e-04 - accuracy: 0.9952 - lr: 1.3895e-22\n",
      "Epoch 161/200\n",
      "507/507 [==============================] - 1s 2ms/step - loss: 4.1837e-04 - accuracy: 0.9952 - lr: 8.3370e-23\n",
      "Epoch 162/200\n",
      "507/507 [==============================] - 1s 2ms/step - loss: 4.1837e-04 - accuracy: 0.9952 - lr: 5.0022e-23\n",
      "Epoch 163/200\n",
      "507/507 [==============================] - 1s 1ms/step - loss: 4.1837e-04 - accuracy: 0.9952 - lr: 3.0013e-23\n",
      "Epoch 164/200\n",
      "507/507 [==============================] - 1s 2ms/step - loss: 4.1837e-04 - accuracy: 0.9952 - lr: 1.8008e-23\n",
      "Epoch 165/200\n",
      "507/507 [==============================] - 1s 2ms/step - loss: 4.1837e-04 - accuracy: 0.9952 - lr: 1.0805e-23\n",
      "Epoch 166/200\n",
      "507/507 [==============================] - 1s 2ms/step - loss: 4.1837e-04 - accuracy: 0.9952 - lr: 6.4828e-24\n",
      "Epoch 167/200\n",
      "507/507 [==============================] - 1s 2ms/step - loss: 4.1837e-04 - accuracy: 0.9952 - lr: 3.8897e-24\n",
      "Epoch 168/200\n",
      "507/507 [==============================] - 1s 2ms/step - loss: 4.1837e-04 - accuracy: 0.9952 - lr: 2.3338e-24\n",
      "Epoch 169/200\n",
      "507/507 [==============================] - 1s 2ms/step - loss: 4.1837e-04 - accuracy: 0.9952 - lr: 1.4003e-24\n",
      "Epoch 170/200\n",
      "507/507 [==============================] - 1s 2ms/step - loss: 4.1837e-04 - accuracy: 0.9952 - lr: 8.4017e-25\n",
      "Epoch 171/200\n",
      "507/507 [==============================] - 1s 2ms/step - loss: 4.1837e-04 - accuracy: 0.9952 - lr: 5.0410e-25\n",
      "Epoch 172/200\n",
      "507/507 [==============================] - 1s 2ms/step - loss: 4.1837e-04 - accuracy: 0.9952 - lr: 3.0246e-25\n",
      "Epoch 173/200\n",
      "507/507 [==============================] - 1s 2ms/step - loss: 4.1837e-04 - accuracy: 0.9952 - lr: 1.8148e-25\n",
      "Epoch 174/200\n",
      "507/507 [==============================] - 1s 2ms/step - loss: 4.1837e-04 - accuracy: 0.9952 - lr: 1.0889e-25\n",
      "Epoch 175/200\n",
      "507/507 [==============================] - 1s 2ms/step - loss: 4.1837e-04 - accuracy: 0.9952 - lr: 6.5332e-26\n",
      "Epoch 176/200\n",
      "507/507 [==============================] - 1s 2ms/step - loss: 4.1837e-04 - accuracy: 0.9952 - lr: 3.9199e-26\n",
      "Epoch 177/200\n",
      "507/507 [==============================] - 1s 2ms/step - loss: 4.1837e-04 - accuracy: 0.9952 - lr: 2.3519e-26\n",
      "Epoch 178/200\n",
      "507/507 [==============================] - 1s 2ms/step - loss: 4.1837e-04 - accuracy: 0.9952 - lr: 1.4112e-26\n",
      "Epoch 179/200\n",
      "507/507 [==============================] - 1s 1ms/step - loss: 4.1837e-04 - accuracy: 0.9952 - lr: 8.4670e-27\n",
      "Epoch 180/200\n",
      "507/507 [==============================] - 1s 1ms/step - loss: 4.1837e-04 - accuracy: 0.9952 - lr: 5.0802e-27\n",
      "Epoch 181/200\n",
      "507/507 [==============================] - 1s 2ms/step - loss: 4.1837e-04 - accuracy: 0.9952 - lr: 3.0481e-27\n",
      "Epoch 182/200\n",
      "507/507 [==============================] - 1s 2ms/step - loss: 4.1837e-04 - accuracy: 0.9952 - lr: 1.8289e-27\n",
      "Epoch 183/200\n",
      "507/507 [==============================] - 1s 2ms/step - loss: 4.1837e-04 - accuracy: 0.9952 - lr: 1.0973e-27\n",
      "Epoch 184/200\n",
      "507/507 [==============================] - 1s 2ms/step - loss: 4.1837e-04 - accuracy: 0.9952 - lr: 6.5839e-28\n",
      "Epoch 185/200\n",
      "507/507 [==============================] - 1s 1ms/step - loss: 4.1837e-04 - accuracy: 0.9952 - lr: 3.9504e-28\n",
      "Epoch 186/200\n",
      "507/507 [==============================] - 1s 2ms/step - loss: 4.1837e-04 - accuracy: 0.9952 - lr: 2.3702e-28\n",
      "Epoch 187/200\n",
      "507/507 [==============================] - 1s 2ms/step - loss: 4.1837e-04 - accuracy: 0.9952 - lr: 1.4221e-28\n",
      "Epoch 188/200\n",
      "507/507 [==============================] - 1s 2ms/step - loss: 4.1837e-04 - accuracy: 0.9952 - lr: 8.5328e-29\n",
      "Epoch 189/200\n",
      "507/507 [==============================] - 1s 2ms/step - loss: 4.1837e-04 - accuracy: 0.9952 - lr: 5.1197e-29\n",
      "Epoch 190/200\n",
      "507/507 [==============================] - 1s 2ms/step - loss: 4.1837e-04 - accuracy: 0.9952 - lr: 3.0718e-29\n",
      "Epoch 191/200\n",
      "507/507 [==============================] - 1s 2ms/step - loss: 4.1837e-04 - accuracy: 0.9952 - lr: 1.8431e-29\n",
      "Epoch 192/200\n",
      "507/507 [==============================] - 1s 2ms/step - loss: 4.1837e-04 - accuracy: 0.9952 - lr: 1.1059e-29\n",
      "Epoch 193/200\n",
      "507/507 [==============================] - 1s 2ms/step - loss: 4.1837e-04 - accuracy: 0.9952 - lr: 6.6351e-30\n",
      "Epoch 194/200\n",
      "507/507 [==============================] - 1s 1ms/step - loss: 4.1837e-04 - accuracy: 0.9952 - lr: 3.9811e-30\n",
      "Epoch 195/200\n",
      "507/507 [==============================] - 1s 2ms/step - loss: 4.1837e-04 - accuracy: 0.9952 - lr: 2.3886e-30\n",
      "Epoch 196/200\n",
      "507/507 [==============================] - 1s 2ms/step - loss: 4.1837e-04 - accuracy: 0.9952 - lr: 1.4332e-30\n",
      "Epoch 197/200\n",
      "507/507 [==============================] - 1s 2ms/step - loss: 4.1837e-04 - accuracy: 0.9952 - lr: 8.5991e-31\n",
      "Epoch 198/200\n",
      "507/507 [==============================] - 1s 2ms/step - loss: 4.1837e-04 - accuracy: 0.9952 - lr: 5.1595e-31\n",
      "Epoch 199/200\n",
      "507/507 [==============================] - 1s 1ms/step - loss: 4.1837e-04 - accuracy: 0.9952 - lr: 3.0957e-31\n",
      "Epoch 200/200\n",
      "507/507 [==============================] - 1s 1ms/step - loss: 4.1837e-04 - accuracy: 0.9952 - lr: 1.8574e-31\n"
     ]
    }
   ],
   "source": [
    "# Train the model\n",
    "# y_train_array = np.array(y_train.tolist())\n",
    "history = model.fit(X_train.to_numpy(), y_train.to_numpy(), epochs=200, batch_size=512, callbacks=[callback])\n",
    "\n"
   ]
  },
  {
   "cell_type": "code",
   "execution_count": 15,
   "metadata": {},
   "outputs": [
    {
     "name": "stdout",
     "output_type": "stream",
     "text": [
      "2027/2027 [==============================] - 1s 543us/step\n",
      "2027/2027 [==============================] - 2s 774us/step - loss: 4.6913e-04 - accuracy: 0.9948\n",
      "Test loss: 0.0004691340436693281\n",
      "Test accuracy: 0.9948198795318604\n"
     ]
    },
    {
     "data": {
      "image/png": "[encoded data removed]",
      "text/plain": [
       "<Figure size 640x480 with 1 Axes>"
      ]
     },
     "metadata": {},
     "output_type": "display_data"
    }
   ],
   "source": [
    "# validate the model\n",
    "y_test_pred = model.predict(X_test.to_numpy())\n",
    "y_test_pred_df = pd.DataFrame(y_test_pred, columns=y.columns)\n",
    "y_test_pred_df = y_test_pred_df.round(2)\n",
    "y_test_pred_df = y_test_pred_df.clip(0, 1)\n",
    "\n",
    "# Evaluate the model\n",
    "score = model.evaluate(X_test.to_numpy(), y_test.to_numpy())\n",
    "print('Test loss:', score[0])\n",
    "print('Test accuracy:', score[1])\n",
    "\n",
    "\n",
    "# Plot the loss\n",
    "plt.plot(history.history['loss'])\n",
    "plt.title('Loss')\n",
    "plt.xlabel('epoch')\n",
    "plt.ylabel('loss')\n",
    "plt.show()\n"
   ]
  },
  {
   "cell_type": "code",
   "execution_count": 14,
   "metadata": {},
   "outputs": [
    {
     "data": {
      "image/png": "[encoded data removed]",
      "text/plain": [
       "<Figure size 1200x600 with 2 Axes>"
      ]
     },
     "metadata": {},
     "output_type": "display_data"
    }
   ],
   "source": [
    "# Plot the loss\n",
    "plt.figure(figsize=(12, 6))\n",
    "plt.subplot(1, 2, 1)\n",
    "plt.plot(history.history['loss'], label='Training Loss')\n",
    "# plt.plot(history.history['val_loss'], label='Validation Loss')\n",
    "plt.title('Loss')\n",
    "plt.legend()\n",
    "\n",
    "# Plot the accuracy\n",
    "plt.subplot(1, 2, 2)\n",
    "plt.plot(history.history['accuracy'], label='Training Accuracy')\n",
    "# plt.plot(history.history['val_accuracy'], label='Validation Accuracy')\n",
    "plt.title('Accuracy')\n",
    "plt.legend()\n",
    "\n",
    "plt.show()"
   ]
  },
  {
   "cell_type": "code",
   "execution_count": 10,
   "metadata": {},
   "outputs": [
    {
     "name": "stdout",
     "output_type": "stream",
     "text": [
      "1193/1193 [==============================] - 1s 758us/step - loss: 9.4644e-07 - accuracy: 0.9912\n",
      "Test loss: 9.464371828471485e-07\n"
     ]
    }
   ],
   "source": [
    "# Evaluate the model\n",
    "loss, accuracy = model.evaluate(X_test, y_test)\n",
    "print('Test loss:', loss)"
   ]
  },
  {
   "cell_type": "code",
   "execution_count": 17,
   "metadata": {},
   "outputs": [],
   "source": [
    "# Save the model\n",
    "model.save('ik_model/modelv1_256.h5')\n",
    "\n",
    "# Later, load the model\n",
    "from tensorflow.keras.models import load_model\n",
    "\n",
    "loaded_model = load_model('ik_model/modelv1_256.h5')"
   ]
  },
  {
   "cell_type": "markdown",
   "metadata": {},
   "source": [
    "### validate with sim"
   ]
  },
  {
   "cell_type": "code",
   "execution_count": 1,
   "metadata": {},
   "outputs": [
    {
     "name": "stderr",
     "output_type": "stream",
     "text": [
      "2024-02-24 17:29:01.757378: E external/local_xla/xla/stream_executor/cuda/cuda_dnn.cc:9261] Unable to register cuDNN factory: Attempting to register factory for plugin cuDNN when one has already been registered\n",
      "2024-02-24 17:29:01.757409: E external/local_xla/xla/stream_executor/cuda/cuda_fft.cc:607] Unable to register cuFFT factory: Attempting to register factory for plugin cuFFT when one has already been registered\n",
      "2024-02-24 17:29:01.758414: E external/local_xla/xla/stream_executor/cuda/cuda_blas.cc:1515] Unable to register cuBLAS factory: Attempting to register factory for plugin cuBLAS when one has already been registered\n",
      "2024-02-24 17:29:01.763466: I tensorflow/core/platform/cpu_feature_guard.cc:182] This TensorFlow binary is optimized to use available CPU instructions in performance-critical operations.\n",
      "To enable the following instructions: AVX2 FMA, in other operations, rebuild TensorFlow with the appropriate compiler flags.\n",
      "2024-02-24 17:29:02.341036: W tensorflow/compiler/tf2tensorrt/utils/py_utils.cc:38] TF-TRT Warning: Could not find TensorRT\n",
      "2024-02-24 17:29:03.578749: I external/local_xla/xla/stream_executor/cuda/cuda_executor.cc:901] successful NUMA node read from SysFS had negative value (-1), but there must be at least one NUMA node, so returning NUMA node zero. See more at https://github.com/torvalds/linux/blob/v6.0/Documentation/ABI/testing/sysfs-bus-pci#L344-L355\n",
      "2024-02-24 17:29:03.608483: I external/local_xla/xla/stream_executor/cuda/cuda_executor.cc:901] successful NUMA node read from SysFS had negative value (-1), but there must be at least one NUMA node, so returning NUMA node zero. See more at https://github.com/torvalds/linux/blob/v6.0/Documentation/ABI/testing/sysfs-bus-pci#L344-L355\n",
      "2024-02-24 17:29:03.608680: I external/local_xla/xla/stream_executor/cuda/cuda_executor.cc:901] successful NUMA node read from SysFS had negative value (-1), but there must be at least one NUMA node, so returning NUMA node zero. See more at https://github.com/torvalds/linux/blob/v6.0/Documentation/ABI/testing/sysfs-bus-pci#L344-L355\n",
      "2024-02-24 17:29:03.609745: I external/local_xla/xla/stream_executor/cuda/cuda_executor.cc:901] successful NUMA node read from SysFS had negative value (-1), but there must be at least one NUMA node, so returning NUMA node zero. See more at https://github.com/torvalds/linux/blob/v6.0/Documentation/ABI/testing/sysfs-bus-pci#L344-L355\n",
      "2024-02-24 17:29:03.609908: I external/local_xla/xla/stream_executor/cuda/cuda_executor.cc:901] successful NUMA node read from SysFS had negative value (-1), but there must be at least one NUMA node, so returning NUMA node zero. See more at https://github.com/torvalds/linux/blob/v6.0/Documentation/ABI/testing/sysfs-bus-pci#L344-L355\n",
      "2024-02-24 17:29:03.610058: I external/local_xla/xla/stream_executor/cuda/cuda_executor.cc:901] successful NUMA node read from SysFS had negative value (-1), but there must be at least one NUMA node, so returning NUMA node zero. See more at https://github.com/torvalds/linux/blob/v6.0/Documentation/ABI/testing/sysfs-bus-pci#L344-L355\n",
      "2024-02-24 17:29:03.670217: I external/local_xla/xla/stream_executor/cuda/cuda_executor.cc:901] successful NUMA node read from SysFS had negative value (-1), but there must be at least one NUMA node, so returning NUMA node zero. See more at https://github.com/torvalds/linux/blob/v6.0/Documentation/ABI/testing/sysfs-bus-pci#L344-L355\n",
      "2024-02-24 17:29:03.670424: I external/local_xla/xla/stream_executor/cuda/cuda_executor.cc:901] successful NUMA node read from SysFS had negative value (-1), but there must be at least one NUMA node, so returning NUMA node zero. See more at https://github.com/torvalds/linux/blob/v6.0/Documentation/ABI/testing/sysfs-bus-pci#L344-L355\n",
      "2024-02-24 17:29:03.670587: I external/local_xla/xla/stream_executor/cuda/cuda_executor.cc:901] successful NUMA node read from SysFS had negative value (-1), but there must be at least one NUMA node, so returning NUMA node zero. See more at https://github.com/torvalds/linux/blob/v6.0/Documentation/ABI/testing/sysfs-bus-pci#L344-L355\n",
      "2024-02-24 17:29:03.670706: I tensorflow/core/common_runtime/gpu/gpu_device.cc:1929] Created device /job:localhost/replica:0/task:0/device:GPU:0 with 4877 MB memory:  -> device: 0, name: NVIDIA GeForce RTX 3070, pci bus id: 0000:06:00.0, compute capability: 8.6\n"
     ]
    }
   ],
   "source": [
    "import numpy as np\n",
    "import mujoco\n",
    "from model_arm_data import *\n",
    "import mujoco.viewer\n",
    "import mujoco_viewer\n",
    "from tensorflow.keras.models import load_model\n",
    "from sklearn.model_selection import train_test_split\n",
    "import json\n",
    "import pandas as pd\n",
    "\n",
    "dataset_path = \"tmp.json\"\n",
    "\n",
    "Model = ArmEnv(render_mode='human', datafile=dataset_path)\n",
    "ik_model = load_model('ik_model/modelv1_256.h5')\n",
    "\n",
    "# Load the data\n",
    "with open('dataset/data1.json') as f:\n",
    "    data = json.load(f)\n",
    "\n",
    "df = pd.json_normalize(data['data'])\n",
    "\n",
    "X = df.drop('actions', axis=1)\n",
    "y = pd.DataFrame(df['actions'].to_list())  # Assuming 'actions' is a list\n",
    "ee_position = pd.DataFrame(X['end-effector-position'].tolist(), columns=['ee_pos_x', 'ee_pos_y', 'ee_pos_z'])\n",
    "X = pd.concat([X.drop('end-effector-position', axis=1), ee_position], axis=1)\n",
    "ee_orientation = pd.DataFrame(X['end-effector-orientation'].tolist(), columns=['ee_ori_w', 'ee_ori_x', 'ee_ori_y', 'ee_ori_z'])\n",
    "X = pd.concat([X.drop('end-effector-orientation', axis=1), ee_orientation], axis=1)\n",
    "# y_flat = y.apply(lambda x: pd.Series([i for _list in x for i in _list]), axis=1)\n",
    "\n",
    "# Split the data into training and testing sets\n",
    "X_train, X_test, y_train, y_test = train_test_split(X, y, test_size=0.2, random_state=42)\n",
    "\n",
    "\n",
    "# model = Model.model\n",
    "# data = Model.data\n",
    "\n"
   ]
  },
  {
   "cell_type": "code",
   "execution_count": 5,
   "metadata": {},
   "outputs": [
    {
     "name": "stdout",
     "output_type": "stream",
     "text": [
      "1/1 [==============================] - 0s 17ms/step\n"
     ]
    },
    {
     "name": "stdout",
     "output_type": "stream",
     "text": [
      "desired pose [-2.46704434  1.65001118  0.47289859]\n",
      "Error pos:  0.006554418372889952 Error ori:  0.0019894577504518426\n",
      "Done\n",
      "1/1 [==============================] - 0s 12ms/step\n",
      "desired pose [-0.8575612  -2.3009748   1.17985004]\n",
      "Error pos:  0.0034499354636393464 Error ori:  0.004457416694518995\n",
      "Done\n",
      "1/1 [==============================] - 0s 13ms/step\n",
      "desired pose [ 0.75440179 -0.95312541  1.64742154]\n",
      "Error pos:  0.0018843147881144797 Error ori:  0.002702527379324821\n",
      "Done\n",
      "1/1 [==============================] - 0s 13ms/step\n",
      "desired pose [ 0.15766137 -1.11869544 -0.85190573]\n",
      "Error pos:  0.0017409635715818527 Error ori:  0.002952795776251759\n",
      "Done\n",
      "1/1 [==============================] - 0s 13ms/step\n",
      "desired pose [-2.84930359 -0.69356357 -0.45565186]\n",
      "Error pos:  0.001137360437852159 Error ori:  0.0020913280308266008\n",
      "Done\n",
      "1/1 [==============================] - 0s 12ms/step\n",
      "desired pose [3.07868409 2.03725815 2.00084048]\n",
      "Error pos:  0.0020419256179935066 Error ori:  0.0032757819915290236\n",
      "Done\n",
      "1/1 [==============================] - 0s 13ms/step\n",
      "desired pose [-2.23120146  1.26373633  2.62296064]\n",
      "Error pos:  0.0016757439075267796 Error ori:  0.00859229481276445\n",
      "Done\n",
      "1/1 [==============================] - 0s 13ms/step\n",
      "desired pose [ 1.29676908 -0.54097023  1.9454083 ]\n",
      "Error pos:  0.0007171072579097821 Error ori:  0.0023594376233794937\n",
      "Done\n",
      "1/1 [==============================] - 0s 13ms/step\n",
      "desired pose [-2.06480897 -1.42396801  0.85048892]\n",
      "Error pos:  0.003645705500823321 Error ori:  0.00747192544768664\n",
      "Done\n",
      "1/1 [==============================] - 0s 12ms/step\n",
      "desired pose [-0.18496061  1.89605766 -2.5091684 ]\n",
      "Error pos:  0.003671390307746552 Error ori:  0.015517502709412134\n",
      "Done\n",
      "Average L2 Error pos:  0.002651886522607773 Average L2 Error pos:  0.0051410468216145765\n"
     ]
    }
   ],
   "source": [
    "# eval for 10 datapoints\n",
    "\n",
    "data_nums = 10\n",
    "l2_error_pos = []\n",
    "l2_error_ori = []\n",
    "\n",
    "for data_idx in range(data_nums):\n",
    "    action = ik_model.predict(X_test[data_idx:data_idx+1])[0]\n",
    "    pred_obs = np.array(X_test[data_idx:data_idx+1])\n",
    "    # done = False\n",
    "    Model.reset_model()\n",
    "    # while not done:\n",
    "        #     actuator_pos = np.random.uniform(actuator_low_lim, actuator_high_lim, actuator_num)\n",
    "        #     _, _, done,_ = model.step(action=actuator_pos)\n",
    "    print(\"desired pose\", pred_obs[0][0:3])\n",
    "    ee_pos, ee_ori = Model.run_action_data_collection(action)\n",
    "    # true_obs = Model.get_observations()\n",
    "    # if done:\n",
    "    pred_ee_pos = pred_obs[0][6:9]\n",
    "    true_ee_pos = ee_pos[0:3]\n",
    "\n",
    "    pred_ee_ori = pred_obs[0][9:]\n",
    "    true_ee_ori = ee_ori\n",
    "\n",
    "    l2_error_pos.append(np.linalg.norm(pred_ee_pos - true_ee_pos))\n",
    "    l2_error_ori.append(np.linalg.norm(pred_ee_ori - true_ee_ori))\n",
    "\n",
    "    print(\"Error pos: \", np.linalg.norm(pred_ee_pos - true_ee_pos), \"Error ori: \", np.linalg.norm(pred_ee_ori - true_ee_ori))\n",
    "    print(\"Done\")\n",
    "    # break\n",
    "\n",
    "print(\"Average L2 Error pos: \", np.mean(l2_error_pos), \"Average L2 Error pos: \",  np.mean(l2_error_ori))\n",
    "\n"
   ]
  },
  {
   "cell_type": "code",
   "execution_count": 3,
   "metadata": {},
   "outputs": [
    {
     "name": "stdout",
     "output_type": "stream",
     "text": [
      "1/1 [==============================] - 0s 10ms/step\n",
      "\n",
      "\n",
      "writing to file\n",
      "\n",
      "\n",
      " action:  [-0.14616337 -0.02987706 -0.0856328   0.07326405 -0.10873747 -0.06219772]\n",
      "observations written to file\n",
      "Done\n"
     ]
    }
   ],
   "source": [
    "action = model.predict(X_test[6:7])[0]\n",
    "pred_obs = np.array(X_test[6:7])\n",
    "\n",
    "done = False\n",
    "Model.reset()\n",
    "while not done:\n",
    "    #     actuator_pos = np.random.uniform(actuator_low_lim, actuator_high_lim, actuator_num)\n",
    "    #     _, _, done,_ = model.step(action=actuator_pos)\n",
    "    done = Model.run_action_data_collection(action, run_once = True)\n",
    "    true_obs = Model.get_observations()\n",
    "    if done:\n",
    "        print(\"Done\")\n",
    "        break\n",
    "    # break"
   ]
  },
  {
   "cell_type": "code",
   "execution_count": 5,
   "metadata": {},
   "outputs": [
    {
     "name": "stdout",
     "output_type": "stream",
     "text": [
      "Predicted EE Pos:  [-0.63756269  0.1284963   0.06231349]\n",
      "True EE Pos:  [-0.63880825  0.13186927  0.06800195]\n",
      "Error:  0.006729549999199817\n"
     ]
    }
   ],
   "source": [
    "pred_ee_pos = pred_obs[0][0:3]\n",
    "true_ee_pos = true_obs[0:3]\n",
    "print(\"Predicted EE Pos: \", pred_ee_pos)\n",
    "print(\"True EE Pos: \", true_ee_pos)\n",
    "# error\n",
    "print(\"Error: \", np.linalg.norm(pred_ee_pos - true_ee_pos))"
   ]
  },
  {
   "cell_type": "code",
   "execution_count": 1,
   "metadata": {},
   "outputs": [],
   "source": [
    "### TEST###"
   ]
  },
  {
   "cell_type": "code",
   "execution_count": null,
   "metadata": {},
   "outputs": [],
   "source": []
  },
  {
   "cell_type": "code",
   "execution_count": 10,
   "metadata": {},
   "outputs": [],
   "source": [
    "from gymnasium import *\n",
    "import numpy as np\n",
    "\n",
    "observation_space = spaces.Dict(\n",
    "\t\t\tspaces={\n",
    "\t\t\t\t\"observation\":\n",
    "\t\t\t\tspaces.Box(low=-np.inf, high=np.inf, shape=(26,), dtype=np.float64)\n",
    "                },\n",
    "\t\tseed=None)\n",
    "\n",
    "# observation_space=spaces.Box(low=-np.inf, high=np.inf, shape=(26,), dtype=np.float64)"
   ]
  },
  {
   "cell_type": "code",
   "execution_count": 12,
   "metadata": {},
   "outputs": [
    {
     "data": {
      "text/plain": [
       "KeysView(OrderedDict([('observation', Box(-inf, inf, (26,), float64))]))"
      ]
     },
     "execution_count": 12,
     "metadata": {},
     "output_type": "execute_result"
    }
   ],
   "source": [
    "observation_space.keys()"
   ]
  },
  {
   "cell_type": "code",
   "execution_count": 20,
   "metadata": {},
   "outputs": [
    {
     "ename": "TypeError",
     "evalue": "Type Dict cannot be instantiated; use dict() instead",
     "output_type": "error",
     "traceback": [
      "\u001b[0;31m---------------------------------------------------------------------------\u001b[0m",
      "\u001b[0;31mTypeError\u001b[0m                                 Traceback (most recent call last)",
      "Cell \u001b[0;32mIn[20], line 4\u001b[0m\n\u001b[1;32m      1\u001b[0m obs \u001b[38;5;241m=\u001b[39m np\u001b[38;5;241m.\u001b[39mrandom\u001b[38;5;241m.\u001b[39mrand(\u001b[38;5;241m26\u001b[39m)\n\u001b[1;32m      2\u001b[0m \u001b[38;5;28;01mfrom\u001b[39;00m \u001b[38;5;21;01mtyping\u001b[39;00m \u001b[38;5;28;01mimport\u001b[39;00m Dict\n\u001b[0;32m----> 4\u001b[0m obs \u001b[38;5;241m=\u001b[39m [\u001b[43mDict\u001b[49m\u001b[43m(\u001b[49m\u001b[43m[\u001b[49m\u001b[38;5;124;43m'\u001b[39;49m\u001b[38;5;124;43mobservation\u001b[39;49m\u001b[38;5;124;43m'\u001b[39;49m\u001b[43m,\u001b[49m\u001b[43m \u001b[49m\u001b[43mobs\u001b[49m\u001b[38;5;241;43m.\u001b[39;49m\u001b[43mtolist\u001b[49m\u001b[43m(\u001b[49m\u001b[43m)\u001b[49m\u001b[43m]\u001b[49m\u001b[43m)\u001b[49m]\n",
      "File \u001b[0;32m~/miniconda3/lib/python3.11/typing.py:1266\u001b[0m, in \u001b[0;36m_BaseGenericAlias.__call__\u001b[0;34m(self, *args, **kwargs)\u001b[0m\n\u001b[1;32m   1264\u001b[0m \u001b[38;5;28;01mdef\u001b[39;00m \u001b[38;5;21m__call__\u001b[39m(\u001b[38;5;28mself\u001b[39m, \u001b[38;5;241m*\u001b[39margs, \u001b[38;5;241m*\u001b[39m\u001b[38;5;241m*\u001b[39mkwargs):\n\u001b[1;32m   1265\u001b[0m     \u001b[38;5;28;01mif\u001b[39;00m \u001b[38;5;129;01mnot\u001b[39;00m \u001b[38;5;28mself\u001b[39m\u001b[38;5;241m.\u001b[39m_inst:\n\u001b[0;32m-> 1266\u001b[0m         \u001b[38;5;28;01mraise\u001b[39;00m \u001b[38;5;167;01mTypeError\u001b[39;00m(\u001b[38;5;124mf\u001b[39m\u001b[38;5;124m\"\u001b[39m\u001b[38;5;124mType \u001b[39m\u001b[38;5;132;01m{\u001b[39;00m\u001b[38;5;28mself\u001b[39m\u001b[38;5;241m.\u001b[39m_name\u001b[38;5;132;01m}\u001b[39;00m\u001b[38;5;124m cannot be instantiated; \u001b[39m\u001b[38;5;124m\"\u001b[39m\n\u001b[1;32m   1267\u001b[0m                         \u001b[38;5;124mf\u001b[39m\u001b[38;5;124m\"\u001b[39m\u001b[38;5;124muse \u001b[39m\u001b[38;5;132;01m{\u001b[39;00m\u001b[38;5;28mself\u001b[39m\u001b[38;5;241m.\u001b[39m__origin__\u001b[38;5;241m.\u001b[39m\u001b[38;5;18m__name__\u001b[39m\u001b[38;5;132;01m}\u001b[39;00m\u001b[38;5;124m() instead\u001b[39m\u001b[38;5;124m\"\u001b[39m)\n\u001b[1;32m   1268\u001b[0m     result \u001b[38;5;241m=\u001b[39m \u001b[38;5;28mself\u001b[39m\u001b[38;5;241m.\u001b[39m__origin__(\u001b[38;5;241m*\u001b[39margs, \u001b[38;5;241m*\u001b[39m\u001b[38;5;241m*\u001b[39mkwargs)\n\u001b[1;32m   1269\u001b[0m     \u001b[38;5;28;01mtry\u001b[39;00m:\n",
      "\u001b[0;31mTypeError\u001b[0m: Type Dict cannot be instantiated; use dict() instead"
     ]
    }
   ],
   "source": [
    "obs = np.random.rand(26)\n",
    "from typing import Dict\n",
    "\n",
    "obs = [Dict(['observation', obs.tolist()])]"
   ]
  },
  {
   "cell_type": "code",
   "execution_count": 16,
   "metadata": {},
   "outputs": [
    {
     "data": {
      "text/plain": [
       "dict"
      ]
     },
     "execution_count": 16,
     "metadata": {},
     "output_type": "execute_result"
    }
   ],
   "source": [
    "type(obs[0])"
   ]
  }
 ],
 "metadata": {
  "kernelspec": {
   "display_name": "Python 3",
   "language": "python",
   "name": "python3"
  },
  "language_info": {
   "codemirror_mode": {
    "name": "ipython",
    "version": 3
   },
   "file_extension": ".py",
   "mimetype": "text/x-python",
   "name": "python",
   "nbconvert_exporter": "python",
   "pygments_lexer": "ipython3",
   "version": "3.11.5"
  }
 },
 "nbformat": 4,
 "nbformat_minor": 2
}
